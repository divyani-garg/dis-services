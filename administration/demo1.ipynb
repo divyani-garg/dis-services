{
 "cells": [
  {
   "cell_type": "code",
   "execution_count": 29,
   "metadata": {
    "colab": {
     "base_uri": "https://localhost:8080/",
     "height": 202
    },
    "colab_type": "code",
    "id": "Pd-_vcYSwDas",
    "outputId": "73cd8d5a-e426-4ac8-9698-6bac4653abe5"
   },
   "outputs": [
    {
     "name": "stdout",
     "output_type": "stream",
     "text": [
      "16.7340682 78.7146419\n",
      "latitude is :- 17.9807027 \n",
      "longtitude is:- 79.807831\n",
      "latitude is :- 28.4584323 \n",
      "longtitude is:- 77.3162292\n",
      "latitude is :- 26.8001665 \n",
      "longtitude is:- 80.9106035\n"
     ]
    },
    {
     "name": "stderr",
     "output_type": "stream",
     "text": [
      "/usr/local/lib/python3.6/dist-packages/geopy/geocoders/osm.py:143: UserWarning: Using Nominatim with the default \"geopy/1.17.0\" `user_agent` is strongly discouraged, as it violates Nominatim's ToS https://operations.osmfoundation.org/policies/nominatim/ and may possibly cause 403 and 429 HTTP errors. Please specify a custom `user_agent` with `Nominatim(user_agent=\"my-application\")` or by overriding the default `user_agent`: `geopy.geocoders.options.default_user_agent = \"my-application\"`. In geopy 2.0 this will become an exception.\n",
      "  UserWarning\n"
     ]
    }
   ],
   "source": [
    "from  geopy.geocoders import Nominatim\n",
    "geolocator = Nominatim()\n",
    "street=\"Vip Road\"\n",
    "city3=\"Rajeev Nagar\"\n",
    "city2=\"Shivaji Nagar\"\n",
    "city1=\"Ayodhya Nagar\"\n",
    "state =\"Bhopal\"\n",
    "country =\"India\"\n",
    "loc1 = geolocator.geocode(city1)\n",
    "loc2= geolocator.geocode(city2)\n",
    "loc3= geolocator.geocode(city3)\n",
    "loc4= geolocator.geocode(street)\n",
    "print(loc1.latitude,loc1.longitude)\n",
    "print(\"latitude is :-\" ,loc2.latitude,\"\\nlongtitude is:-\" ,loc2.longitude)\n",
    "print(\"latitude is :-\" ,loc3.latitude,\"\\nlongtitude is:-\" ,loc3.longitude)\n",
    "print(\"latitude is :-\" ,loc4.latitude,\"\\nlongtitude is:-\" ,loc4.longitude)\n"
   ]
  }
 ],
 "metadata": {
  "colab": {
   "collapsed_sections": [],
   "name": "Untitled5.ipynb",
   "provenance": []
  },
  "kernelspec": {
   "display_name": "Python 3",
   "name": "python3"
  }
 },
 "nbformat": 4,
 "nbformat_minor": 0
}
