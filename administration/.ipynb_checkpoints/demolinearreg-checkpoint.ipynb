{
 "cells": [
  {
   "cell_type": "code",
   "execution_count": 64,
   "metadata": {},
   "outputs": [],
   "source": [
    "import pandas as pd\n",
    "import numpy as np\n",
    "import matplotlib.pyplot as plt\n",
    "import seaborn as sns"
   ]
  },
  {
   "cell_type": "code",
   "execution_count": 65,
   "metadata": {},
   "outputs": [],
   "source": [
    "df = pd.read_csv('C:/Users/Aashish/Desktop/bike project/ethylene_methane.txt',delimiter=r'\\s+')"
   ]
  },
  {
   "cell_type": "code",
   "execution_count": 67,
   "metadata": {},
   "outputs": [
    {
     "data": {
      "text/html": [
       "<div>\n",
       "<style scoped>\n",
       "    .dataframe tbody tr th:only-of-type {\n",
       "        vertical-align: middle;\n",
       "    }\n",
       "\n",
       "    .dataframe tbody tr th {\n",
       "        vertical-align: top;\n",
       "    }\n",
       "\n",
       "    .dataframe thead th {\n",
       "        text-align: right;\n",
       "    }\n",
       "</style>\n",
       "<table border=\"1\" class=\"dataframe\">\n",
       "  <thead>\n",
       "    <tr style=\"text-align: right;\">\n",
       "      <th></th>\n",
       "      <th>Time(seconds)</th>\n",
       "      <th>Methane_conc(ppm)</th>\n",
       "      <th>Ethylene_conc(ppm)</th>\n",
       "      <th>1</th>\n",
       "      <th>2</th>\n",
       "      <th>3</th>\n",
       "      <th>4</th>\n",
       "      <th>5</th>\n",
       "      <th>6</th>\n",
       "      <th>7</th>\n",
       "      <th>8</th>\n",
       "      <th>9</th>\n",
       "      <th>10</th>\n",
       "      <th>11</th>\n",
       "      <th>12</th>\n",
       "      <th>13</th>\n",
       "      <th>14</th>\n",
       "      <th>15</th>\n",
       "      <th>16</th>\n",
       "    </tr>\n",
       "  </thead>\n",
       "  <tbody>\n",
       "    <tr>\n",
       "      <th>0</th>\n",
       "      <td>0.00</td>\n",
       "      <td>0.0</td>\n",
       "      <td>0.0</td>\n",
       "      <td>-41.98</td>\n",
       "      <td>2067.64</td>\n",
       "      <td>-37.13</td>\n",
       "      <td>2.28</td>\n",
       "      <td>8.63</td>\n",
       "      <td>-26.62</td>\n",
       "      <td>-8.46</td>\n",
       "      <td>-0.33</td>\n",
       "      <td>3437.73</td>\n",
       "      <td>2728.14</td>\n",
       "      <td>4054.03</td>\n",
       "      <td>4007.89</td>\n",
       "      <td>4478.27</td>\n",
       "      <td>5056.98</td>\n",
       "      <td>3639.09</td>\n",
       "      <td>3128.49</td>\n",
       "    </tr>\n",
       "    <tr>\n",
       "      <th>1</th>\n",
       "      <td>0.01</td>\n",
       "      <td>0.0</td>\n",
       "      <td>0.0</td>\n",
       "      <td>-46.50</td>\n",
       "      <td>2067.88</td>\n",
       "      <td>-28.56</td>\n",
       "      <td>13.69</td>\n",
       "      <td>-12.35</td>\n",
       "      <td>-25.81</td>\n",
       "      <td>-5.04</td>\n",
       "      <td>-5.04</td>\n",
       "      <td>3432.44</td>\n",
       "      <td>2734.47</td>\n",
       "      <td>4038.62</td>\n",
       "      <td>4019.40</td>\n",
       "      <td>4496.72</td>\n",
       "      <td>5051.81</td>\n",
       "      <td>3636.97</td>\n",
       "      <td>3115.03</td>\n",
       "    </tr>\n",
       "    <tr>\n",
       "      <th>2</th>\n",
       "      <td>0.02</td>\n",
       "      <td>0.0</td>\n",
       "      <td>0.0</td>\n",
       "      <td>-36.16</td>\n",
       "      <td>2055.81</td>\n",
       "      <td>-10.89</td>\n",
       "      <td>8.63</td>\n",
       "      <td>-2.93</td>\n",
       "      <td>-30.34</td>\n",
       "      <td>-9.27</td>\n",
       "      <td>-2.12</td>\n",
       "      <td>3438.61</td>\n",
       "      <td>2719.97</td>\n",
       "      <td>4030.92</td>\n",
       "      <td>4025.48</td>\n",
       "      <td>4489.54</td>\n",
       "      <td>5057.35</td>\n",
       "      <td>3641.81</td>\n",
       "      <td>3105.24</td>\n",
       "    </tr>\n",
       "    <tr>\n",
       "      <th>3</th>\n",
       "      <td>0.03</td>\n",
       "      <td>0.0</td>\n",
       "      <td>0.0</td>\n",
       "      <td>-50.36</td>\n",
       "      <td>2053.68</td>\n",
       "      <td>-31.96</td>\n",
       "      <td>-0.65</td>\n",
       "      <td>-8.29</td>\n",
       "      <td>-21.60</td>\n",
       "      <td>7.98</td>\n",
       "      <td>2.28</td>\n",
       "      <td>3429.51</td>\n",
       "      <td>2720.50</td>\n",
       "      <td>4040.22</td>\n",
       "      <td>4000.87</td>\n",
       "      <td>4485.44</td>\n",
       "      <td>5049.60</td>\n",
       "      <td>3642.72</td>\n",
       "      <td>3124.84</td>\n",
       "    </tr>\n",
       "    <tr>\n",
       "      <th>4</th>\n",
       "      <td>0.04</td>\n",
       "      <td>0.0</td>\n",
       "      <td>0.0</td>\n",
       "      <td>-37.30</td>\n",
       "      <td>2081.17</td>\n",
       "      <td>-36.16</td>\n",
       "      <td>3.26</td>\n",
       "      <td>5.05</td>\n",
       "      <td>-26.14</td>\n",
       "      <td>-7.48</td>\n",
       "      <td>-0.65</td>\n",
       "      <td>3436.85</td>\n",
       "      <td>2719.71</td>\n",
       "      <td>4029.64</td>\n",
       "      <td>4007.25</td>\n",
       "      <td>4499.12</td>\n",
       "      <td>5057.35</td>\n",
       "      <td>3674.30</td>\n",
       "      <td>3147.59</td>\n",
       "    </tr>\n",
       "  </tbody>\n",
       "</table>\n",
       "</div>"
      ],
      "text/plain": [
       "   Time(seconds)  Methane_conc(ppm)  Ethylene_conc(ppm)      1        2  \\\n",
       "0           0.00                0.0                 0.0 -41.98  2067.64   \n",
       "1           0.01                0.0                 0.0 -46.50  2067.88   \n",
       "2           0.02                0.0                 0.0 -36.16  2055.81   \n",
       "3           0.03                0.0                 0.0 -50.36  2053.68   \n",
       "4           0.04                0.0                 0.0 -37.30  2081.17   \n",
       "\n",
       "       3      4      5      6     7     8        9       10       11       12  \\\n",
       "0 -37.13   2.28   8.63 -26.62 -8.46 -0.33  3437.73  2728.14  4054.03  4007.89   \n",
       "1 -28.56  13.69 -12.35 -25.81 -5.04 -5.04  3432.44  2734.47  4038.62  4019.40   \n",
       "2 -10.89   8.63  -2.93 -30.34 -9.27 -2.12  3438.61  2719.97  4030.92  4025.48   \n",
       "3 -31.96  -0.65  -8.29 -21.60  7.98  2.28  3429.51  2720.50  4040.22  4000.87   \n",
       "4 -36.16   3.26   5.05 -26.14 -7.48 -0.65  3436.85  2719.71  4029.64  4007.25   \n",
       "\n",
       "        13       14       15       16  \n",
       "0  4478.27  5056.98  3639.09  3128.49  \n",
       "1  4496.72  5051.81  3636.97  3115.03  \n",
       "2  4489.54  5057.35  3641.81  3105.24  \n",
       "3  4485.44  5049.60  3642.72  3124.84  \n",
       "4  4499.12  5057.35  3674.30  3147.59  "
      ]
     },
     "execution_count": 67,
     "metadata": {},
     "output_type": "execute_result"
    }
   ],
   "source": [
    "df.head()"
   ]
  },
  {
   "cell_type": "code",
   "execution_count": 68,
   "metadata": {},
   "outputs": [],
   "source": [
    "df=df[80000:120000]"
   ]
  },
  {
   "cell_type": "code",
   "execution_count": 69,
   "metadata": {},
   "outputs": [],
   "source": [
    "from sklearn.linear_model import LinearRegression\n",
    "from sklearn.model_selection import train_test_split\n",
    "from sklearn import metrics\n"
   ]
  },
  {
   "cell_type": "code",
   "execution_count": 82,
   "metadata": {},
   "outputs": [],
   "source": [
    "x=df.drop('Ethylene_conc(ppm)',axis=1)\n",
    "y= df['Ethylene_conc(ppm)']\n",
    "X_train, X_test, y_train, y_test = train_test_split(x, y, test_size=0.4,random_state=40)\n"
   ]
  },
  {
   "cell_type": "code",
   "execution_count": 83,
   "metadata": {},
   "outputs": [],
   "source": [
    "x_valid_test,x_test, y_valid_test, y_test = train_test_split(X_test,y_test, test_size=0.5, random_state=50)"
   ]
  },
  {
   "cell_type": "code",
   "execution_count": 91,
   "metadata": {},
   "outputs": [
    {
     "name": "stdout",
     "output_type": "stream",
     "text": [
      "179.9168958627308\n"
     ]
    }
   ],
   "source": [
    "lm = LinearRegression()\n",
    "lm.fit(X_train,y_train)\n",
    "print(lm.intercept_)"
   ]
  },
  {
   "cell_type": "code",
   "execution_count": 85,
   "metadata": {},
   "outputs": [],
   "source": [
    "pred=lm.predict(X_test)"
   ]
  },
  {
   "cell_type": "code",
   "execution_count": 86,
   "metadata": {},
   "outputs": [
    {
     "data": {
      "text/plain": [
       "array([-0.24922819, -0.6573165 ,  0.50815502, ..., -0.34997482,\n",
       "       -1.80248136,  1.81627348])"
      ]
     },
     "execution_count": 86,
     "metadata": {},
     "output_type": "execute_result"
    }
   ],
   "source": [
    "pred"
   ]
  },
  {
   "cell_type": "code",
   "execution_count": 75,
   "metadata": {},
   "outputs": [
    {
     "data": {
      "text/plain": [
       "0.7396158987273496"
      ]
     },
     "execution_count": 75,
     "metadata": {},
     "output_type": "execute_result"
    }
   ],
   "source": [
    "lm.score(X_test,y_test)"
   ]
  },
  {
   "cell_type": "code",
   "execution_count": 76,
   "metadata": {},
   "outputs": [
    {
     "data": {
      "text/plain": [
       "0.7481947424761921"
      ]
     },
     "execution_count": 76,
     "metadata": {},
     "output_type": "execute_result"
    }
   ],
   "source": [
    "lm.score(X_train,y_train)"
   ]
  },
  {
   "cell_type": "code",
   "execution_count": 77,
   "metadata": {},
   "outputs": [
    {
     "name": "stdout",
     "output_type": "stream",
     "text": [
      "Rmse: 274.1556759129786\n"
     ]
    }
   ],
   "source": [
    "print('Rmse:', np.sqrt(metrics.mean_squared_error(np.exp(y_test), np.exp(pred))))"
   ]
  },
  {
   "cell_type": "code",
   "execution_count": 79,
   "metadata": {},
   "outputs": [
    {
     "data": {
      "image/png": "[encoded data removed]",
      "text/plain": [
       "<Figure size 432x288 with 1 Axes>"
      ]
     },
     "metadata": {
      "needs_background": "light"
     },
     "output_type": "display_data"
    }
   ],
   "source": [
    "sns.scatterplot(x = y_test, y = pred)\n",
    "plt.xlabel('Actual conc')\n",
    "plt.ylabel('Predictions')\n",
    "plt.show()"
   ]
  },
  {
   "cell_type": "code",
   "execution_count": 90,
   "metadata": {},
   "outputs": [
    {
     "data": {
      "text/plain": [
       "array([0.73887151, 0.76433271, 0.75495597, 0.74192713, 0.76247737,\n",
       "       0.73792425, 0.72961329, 0.73254026, 0.74822223, 0.74985155])"
      ]
     },
     "execution_count": 90,
     "metadata": {},
     "output_type": "execute_result"
    }
   ],
   "source": [
    "from sklearn.model_selection import cross_val_score\n",
    "scores = cross_val_score(lm, x_valid_test, y_valid_test, cv=10)\n",
    "scores"
   ]
  },
  {
   "cell_type": "code",
   "execution_count": null,
   "metadata": {},
   "outputs": [],
   "source": []
  }
 ],
 "metadata": {
  "kernelspec": {
   "display_name": "Python 3",
   "language": "python",
   "name": "python3"
  },
  "language_info": {
   "codemirror_mode": {
    "name": "ipython",
    "version": 3
   },
   "file_extension": ".py",
   "mimetype": "text/x-python",
   "name": "python",
   "nbconvert_exporter": "python",
   "pygments_lexer": "ipython3",
   "version": "3.7.3"
  }
 },
 "nbformat": 4,
 "nbformat_minor": 2
}
